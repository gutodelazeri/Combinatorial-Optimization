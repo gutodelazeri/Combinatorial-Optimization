{
 "cells": [
  {
   "cell_type": "code",
   "execution_count": 35,
   "metadata": {},
   "outputs": [],
   "source": [
    "using JuMP\n",
    "using GLPK\n",
    "using GLPKMathProgInterface"
   ]
  },
  {
   "cell_type": "markdown",
   "metadata": {},
   "source": [
    "# Questão 6 (Empresa de aço)\n",
    "\n",
    "## Categorias\n",
    "\n",
    "1: Canos  \n",
    "2: Placas\n",
    "\n",
    "## Variáveis de decisão\n",
    "\n",
    "$x_{i}$ := toneladas de i produzidos(as)\n",
    "\n",
    "## Constantes\n",
    "$P = \\{1,2\\}$  \n",
    "\n",
    "$r_{i}$ := limite de produção semanal de i    \n",
    "$r$ := [6000, 4000]  \n",
    "  \n",
    "$l_{i}$ := lucro de i por tonelada, em reais  \n",
    "$l$ := [25, 30]  \n",
    "  \n",
    "$p_{i}$ := taxa de produção semanal de i  \n",
    "$p$ := [200, 140]\n",
    "\n",
    "## Função objetivo\n",
    "\n",
    "$max \\sum_{i \\in P}^{} x_{i} \\cdot l_{i}$\n",
    "\n",
    "## Restrições\n",
    "\n",
    "$\\sum_{i \\in P}^{} \\frac{1}{p_{i}} \\cdot x_{i} \\leq 40$  \n",
    "   \n",
    "   \n",
    "$0 \\leq x_{i} \\leq r_{i}, i \\in P$"
   ]
  },
  {
   "cell_type": "code",
   "execution_count": 36,
   "metadata": {},
   "outputs": [
    {
     "name": "stdout",
     "output_type": "stream",
     "text": [
      "Termination Status: OPTIMAL\n",
      "Objective Value: 192000.0\n",
      "x[1] = 6000.0\n",
      "x[2] = 1400.0\n"
     ]
    }
   ],
   "source": [
    "model = Model()\n",
    "set_optimizer(model, GLPK.Optimizer);\n",
    "\n",
    "P = [1,2]\n",
    "r = [6000.0, 4000.0]\n",
    "l = [25, 30]\n",
    "p = [200,140]\n",
    "\n",
    "@variable(model, x[P])\n",
    "\n",
    "@objective(model, Max, sum(x[i]*l[i] for i in P))\n",
    "\n",
    "@constraint(model, 0. .<= x .<= r)\n",
    "@constraint(model, sum((1/p[i])*x[i] for i in P) <= 40)\n",
    "\n",
    "optimize!(model)\n",
    "\n",
    "println(\"Termination Status: \", termination_status(model))\n",
    "println(\"Objective Value: \", objective_value(model))\n",
    "for i in P\n",
    "    println(\"x[$(i)] = \", value(x[i]))\n",
    "end"
   ]
  },
  {
   "cell_type": "markdown",
   "metadata": {},
   "source": [
    "# Questão 7 (Produção de TVs)\n",
    "\n",
    "## Categorias\n",
    "\n",
    "1: TV de 29\"   \n",
    "2: TV de 31\" \n",
    "\n",
    "## Variáveis de decisão\n",
    "\n",
    "$x_{i}$ := quantidade média de TV's do tipo i produzidas\n",
    "\n",
    "## Constantes\n",
    "$P = \\{1,2\\}$\n",
    "  \n",
    "\n",
    "$r_{i}$ := limite de vendas mensais de TV's do tipo i   \n",
    "$r$ := [40, 10]  \n",
    "  \n",
    "$l_{i}$ := lucro de TV's do tipo i por unidade, em reais  \n",
    "$l$ := [120, 80]  \n",
    "  \n",
    "$p_{i}$ := quantidade de horas necessárias para produzir uma TV de tipo i  \n",
    "$p$ := [20, 10]\n",
    "\n",
    "## Função objetivo\n",
    "\n",
    "$max \\sum_{i \\in P}^{} x_{i} \\cdot l_{i}$\n",
    "\n",
    "## Restrições\n",
    "\n",
    "$\\sum_{i \\in P}^{} p_{i} \\cdot x_{i} \\leq 500$  \n",
    "   \n",
    "   \n",
    "$0 \\leq x_{i} \\leq r_{i}, i \\in P$"
   ]
  },
  {
   "cell_type": "code",
   "execution_count": 37,
   "metadata": {},
   "outputs": [
    {
     "name": "stdout",
     "output_type": "stream",
     "text": [
      "Termination Status: OPTIMAL\n",
      "Objective Value: 4000.0\n",
      "x[1] = 0.0\n",
      "x[2] = 50.0\n"
     ]
    }
   ],
   "source": [
    "model = Model()\n",
    "set_optimizer(model, GLPK.Optimizer);\n",
    "\n",
    "P = [1,2]\n",
    "r = [40, 10]\n",
    "l = [120, 80]\n",
    "p = [20, 10]\n",
    "\n",
    "@variable(model, x[P])\n",
    "\n",
    "@objective(model, Max, sum(x[i]*l[i] for i in P))\n",
    "\n",
    "@constraint(model, 0. .<= x .<= r)\n",
    "@constraint(model, sum(p[i]*x[i] for i in P) <= 500)\n",
    "\n",
    "optimize!(model)\n",
    "\n",
    "println(\"Termination Status: \", termination_status(model))\n",
    "println(\"Objective Value: \", objective_value(model))\n",
    "for i in P\n",
    "    println(\"x[$(i)] = \", value(x[i]))\n",
    "end"
   ]
  },
  {
   "cell_type": "markdown",
   "metadata": {},
   "source": [
    "# Questão 8 (Empresa área)\n",
    "\n",
    "## Categorias\n",
    "\n",
    "* Tipo do bilhete  \n",
    "    * 1:  Tipo A\n",
    "    * 2:  Tipo B\n",
    "    * 3:  Tipo C\n",
    "* Trajeto\n",
    "    * 1: Pelotas - Porto Alegre\n",
    "    * 2: Porto Alegre - Torres\n",
    "    * 3: Pelotas - Torres\n",
    "\n",
    "## Variáveis de decisão\n",
    "\n",
    "$x_{i,j}$ := número de bilhetes do tipo i para trajeto j disponíveis para venda\n",
    "\n",
    "## Constantes\n",
    "$I = \\{1,2,3\\}$   \n",
    "\n",
    "$d_{i,j}$ := lucro de um bilhete do tipo i para trajeto j, em reais    \n",
    "$d := \\begin{bmatrix} 600 & 320 & 720 \\\\ 440 & 260 & 560 \\\\ 200 & 160 & 280 \\end{bmatrix}$\n",
    "  \n",
    "$k_{i,j}$ := limite de vendas de bilhetes do tipo i para trajeto j  \n",
    "$k := \\begin{bmatrix} 4 & 8 & 3 \\\\ 8 & 13 & 10 \\\\ 22 & 20 & 18 \\end{bmatrix}$\n",
    "  \n",
    "## Função objetivo\n",
    "\n",
    "$max \\sum_{i \\in I}^{} \\sum_{j \\in I}^{} x_{i,j} \\cdot d_{i,j}$\n",
    "\n",
    "## Restrições\n",
    "\n",
    "$\\sum_{i \\in I}^{} x_{i,3} + x_{i,j} \\leq 30, j \\in I \\setminus \\{3\\}$    \n",
    "   \n",
    "$0 \\leq x_{i,j} \\leq k_{i,j}, i,j \\in I$"
   ]
  },
  {
   "cell_type": "code",
   "execution_count": 38,
   "metadata": {},
   "outputs": [
    {
     "name": "stdout",
     "output_type": "stream",
     "text": [
      "Termination Status: OPTIMAL\n",
      "Objective Value: 19580.0\n",
      "x[1,1] = 4.0\n",
      "x[1,2] = 8.0\n",
      "x[1,3] = 3.0\n",
      "x[2,1] = 8.0\n",
      "x[2,2] = 9.0\n",
      "x[2,3] = 10.0\n",
      "x[3,1] = 5.0\n",
      "x[3,2] = 0.0\n",
      "x[3,3] = 0.0\n"
     ]
    }
   ],
   "source": [
    "model = Model()\n",
    "set_optimizer(model, GLPK.Optimizer);\n",
    "\n",
    "I = [1,2,3]\n",
    "I′ = [1,2]\n",
    "d = [[600,320,720], [440,260,560], [200,160,280]]\n",
    "k = [[4,8,3],[8,13,10],[22,20,18]]\n",
    "\n",
    "@variable(model, x[I,I])\n",
    "\n",
    "@objective(model, Max, sum(sum(x[i,j]*d[i][j] for j in I) for i in I))\n",
    "\n",
    "for j in I′\n",
    "    @constraint(model, sum(x[i,3] + x[i,j] for i in I) <= 30)\n",
    "end\n",
    "for i in I\n",
    "    for j in I\n",
    "        @constraint(model, 0 <= x[i,j] <= k[i][j])\n",
    "    end\n",
    "end\n",
    "\n",
    "optimize!(model)\n",
    "\n",
    "println(\"Termination Status: \", termination_status(model))\n",
    "println(\"Objective Value: \", objective_value(model))\n",
    "for i in I\n",
    "    for j in I\n",
    "        println(\"x[$(i),$(j)] = \", value(x[i,j]))\n",
    "    end\n",
    "end"
   ]
  }
 ],
 "metadata": {
  "kernelspec": {
   "display_name": "Julia 1.4.1",
   "language": "julia",
   "name": "julia-1.4"
  },
  "language_info": {
   "file_extension": ".jl",
   "mimetype": "application/julia",
   "name": "julia",
   "version": "1.4.1"
  }
 },
 "nbformat": 4,
 "nbformat_minor": 4
}
